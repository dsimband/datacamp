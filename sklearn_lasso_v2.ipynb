{
 "cells": [
  {
   "cell_type": "code",
   "execution_count": 81,
   "id": "c7a395e6-193d-4654-9ab8-6433bebb401c",
   "metadata": {
    "tags": []
   },
   "outputs": [],
   "source": [
    "import numpy as np\n",
    "import pandas as pd\n",
    "\n",
    "import sklearn as sk\n",
    "from sklearn.model_selection import train_test_split\n",
    "from sklearn.impute import SimpleImputer\n",
    "from sklearn.preprocessing import StandardScaler, RobustScaler, Normalizer, PowerTransformer\n",
    "\n",
    "from sklearn.linear_model import LinearRegression, Ridge, Lasso\n",
    "from sklearn.model_selection import RandomizedSearchCV\n",
    "from sklearn.model_selection import KFold, cross_val_score, cross_val_predict\n",
    "\n",
    "from sklearn.metrics import mean_absolute_error, mean_squared_error, r2_score\n",
    "\n",
    "import matplotlib.pyplot as plt\n",
    "import seaborn as sns\n",
    "\n",
    "\n",
    "\n",
    "sk.set_config(display='diagram')"
   ]
  },
  {
   "cell_type": "markdown",
   "id": "cdc43006-4100-495d-a16f-4cf4168d1dba",
   "metadata": {},
   "source": [
    "# Functions"
   ]
  },
  {
   "cell_type": "code",
   "execution_count": null,
   "id": "caa56381-7ae3-4c21-a30d-56ed4b15c34f",
   "metadata": {},
   "outputs": [],
   "source": []
  },
  {
   "cell_type": "markdown",
   "id": "864e4e06-8f7b-46cd-a21c-776655505de1",
   "metadata": {},
   "source": [
    "# Load Data"
   ]
  },
  {
   "cell_type": "code",
   "execution_count": 82,
   "id": "20fe9be1-3bf2-4b36-b6d8-30adfa08fb6c",
   "metadata": {
    "tags": []
   },
   "outputs": [
    {
     "data": {
      "text/html": [
       "<div>\n",
       "<style scoped>\n",
       "    .dataframe tbody tr th:only-of-type {\n",
       "        vertical-align: middle;\n",
       "    }\n",
       "\n",
       "    .dataframe tbody tr th {\n",
       "        vertical-align: top;\n",
       "    }\n",
       "\n",
       "    .dataframe thead th {\n",
       "        text-align: right;\n",
       "    }\n",
       "</style>\n",
       "<table border=\"1\" class=\"dataframe\">\n",
       "  <thead>\n",
       "    <tr style=\"text-align: right;\">\n",
       "      <th></th>\n",
       "      <th>TARGET_WINS</th>\n",
       "      <th>TEAM_BATTING_2B</th>\n",
       "      <th>TEAM_BATTING_3B</th>\n",
       "      <th>TEAM_BATTING_HR</th>\n",
       "      <th>TEAM_BATTING_BB</th>\n",
       "      <th>TEAM_BATTING_SO</th>\n",
       "      <th>TEAM_BASERUN_SB</th>\n",
       "      <th>TEAM_PITCHING_H</th>\n",
       "      <th>TEAM_PITCHING_HR</th>\n",
       "      <th>TEAM_PITCHING_BB</th>\n",
       "      <th>TEAM_PITCHING_SO</th>\n",
       "      <th>TEAM_FIELDING_E</th>\n",
       "      <th>TEAM_FIELDING_DP</th>\n",
       "      <th>TEAM_BATTING_1B</th>\n",
       "    </tr>\n",
       "  </thead>\n",
       "  <tbody>\n",
       "    <tr>\n",
       "      <th>0</th>\n",
       "      <td>39</td>\n",
       "      <td>194</td>\n",
       "      <td>39</td>\n",
       "      <td>13</td>\n",
       "      <td>143</td>\n",
       "      <td>842.0</td>\n",
       "      <td>NaN</td>\n",
       "      <td>9364</td>\n",
       "      <td>84</td>\n",
       "      <td>927</td>\n",
       "      <td>5456.0</td>\n",
       "      <td>1011</td>\n",
       "      <td>NaN</td>\n",
       "      <td>1199</td>\n",
       "    </tr>\n",
       "    <tr>\n",
       "      <th>1</th>\n",
       "      <td>70</td>\n",
       "      <td>219</td>\n",
       "      <td>22</td>\n",
       "      <td>190</td>\n",
       "      <td>685</td>\n",
       "      <td>1075.0</td>\n",
       "      <td>37.0</td>\n",
       "      <td>1347</td>\n",
       "      <td>191</td>\n",
       "      <td>689</td>\n",
       "      <td>1082.0</td>\n",
       "      <td>193</td>\n",
       "      <td>155.0</td>\n",
       "      <td>908</td>\n",
       "    </tr>\n",
       "    <tr>\n",
       "      <th>2</th>\n",
       "      <td>86</td>\n",
       "      <td>232</td>\n",
       "      <td>35</td>\n",
       "      <td>137</td>\n",
       "      <td>602</td>\n",
       "      <td>917.0</td>\n",
       "      <td>46.0</td>\n",
       "      <td>1377</td>\n",
       "      <td>137</td>\n",
       "      <td>602</td>\n",
       "      <td>917.0</td>\n",
       "      <td>175</td>\n",
       "      <td>153.0</td>\n",
       "      <td>973</td>\n",
       "    </tr>\n",
       "    <tr>\n",
       "      <th>3</th>\n",
       "      <td>70</td>\n",
       "      <td>209</td>\n",
       "      <td>38</td>\n",
       "      <td>96</td>\n",
       "      <td>451</td>\n",
       "      <td>922.0</td>\n",
       "      <td>43.0</td>\n",
       "      <td>1396</td>\n",
       "      <td>97</td>\n",
       "      <td>454</td>\n",
       "      <td>928.0</td>\n",
       "      <td>164</td>\n",
       "      <td>156.0</td>\n",
       "      <td>1044</td>\n",
       "    </tr>\n",
       "    <tr>\n",
       "      <th>4</th>\n",
       "      <td>82</td>\n",
       "      <td>186</td>\n",
       "      <td>27</td>\n",
       "      <td>102</td>\n",
       "      <td>472</td>\n",
       "      <td>920.0</td>\n",
       "      <td>49.0</td>\n",
       "      <td>1297</td>\n",
       "      <td>102</td>\n",
       "      <td>472</td>\n",
       "      <td>920.0</td>\n",
       "      <td>138</td>\n",
       "      <td>168.0</td>\n",
       "      <td>982</td>\n",
       "    </tr>\n",
       "    <tr>\n",
       "      <th>...</th>\n",
       "      <td>...</td>\n",
       "      <td>...</td>\n",
       "      <td>...</td>\n",
       "      <td>...</td>\n",
       "      <td>...</td>\n",
       "      <td>...</td>\n",
       "      <td>...</td>\n",
       "      <td>...</td>\n",
       "      <td>...</td>\n",
       "      <td>...</td>\n",
       "      <td>...</td>\n",
       "      <td>...</td>\n",
       "      <td>...</td>\n",
       "      <td>...</td>\n",
       "    </tr>\n",
       "    <tr>\n",
       "      <th>2271</th>\n",
       "      <td>83</td>\n",
       "      <td>294</td>\n",
       "      <td>25</td>\n",
       "      <td>144</td>\n",
       "      <td>522</td>\n",
       "      <td>990.0</td>\n",
       "      <td>100.0</td>\n",
       "      <td>1404</td>\n",
       "      <td>144</td>\n",
       "      <td>522</td>\n",
       "      <td>990.0</td>\n",
       "      <td>102</td>\n",
       "      <td>152.0</td>\n",
       "      <td>941</td>\n",
       "    </tr>\n",
       "    <tr>\n",
       "      <th>2272</th>\n",
       "      <td>67</td>\n",
       "      <td>276</td>\n",
       "      <td>27</td>\n",
       "      <td>151</td>\n",
       "      <td>496</td>\n",
       "      <td>925.0</td>\n",
       "      <td>109.0</td>\n",
       "      <td>1361</td>\n",
       "      <td>151</td>\n",
       "      <td>496</td>\n",
       "      <td>925.0</td>\n",
       "      <td>99</td>\n",
       "      <td>171.0</td>\n",
       "      <td>907</td>\n",
       "    </tr>\n",
       "    <tr>\n",
       "      <th>2273</th>\n",
       "      <td>81</td>\n",
       "      <td>311</td>\n",
       "      <td>32</td>\n",
       "      <td>117</td>\n",
       "      <td>491</td>\n",
       "      <td>1090.0</td>\n",
       "      <td>45.0</td>\n",
       "      <td>1367</td>\n",
       "      <td>117</td>\n",
       "      <td>491</td>\n",
       "      <td>1090.0</td>\n",
       "      <td>92</td>\n",
       "      <td>156.0</td>\n",
       "      <td>907</td>\n",
       "    </tr>\n",
       "    <tr>\n",
       "      <th>2274</th>\n",
       "      <td>71</td>\n",
       "      <td>322</td>\n",
       "      <td>22</td>\n",
       "      <td>164</td>\n",
       "      <td>594</td>\n",
       "      <td>1156.0</td>\n",
       "      <td>123.0</td>\n",
       "      <td>1437</td>\n",
       "      <td>164</td>\n",
       "      <td>594</td>\n",
       "      <td>1156.0</td>\n",
       "      <td>131</td>\n",
       "      <td>123.0</td>\n",
       "      <td>929</td>\n",
       "    </tr>\n",
       "    <tr>\n",
       "      <th>2275</th>\n",
       "      <td>31</td>\n",
       "      <td>157</td>\n",
       "      <td>62</td>\n",
       "      <td>15</td>\n",
       "      <td>262</td>\n",
       "      <td>969.0</td>\n",
       "      <td>NaN</td>\n",
       "      <td>2870</td>\n",
       "      <td>39</td>\n",
       "      <td>674</td>\n",
       "      <td>2492.0</td>\n",
       "      <td>1026</td>\n",
       "      <td>NaN</td>\n",
       "      <td>882</td>\n",
       "    </tr>\n",
       "  </tbody>\n",
       "</table>\n",
       "<p>2276 rows × 14 columns</p>\n",
       "</div>"
      ],
      "text/plain": [
       "      TARGET_WINS  TEAM_BATTING_2B  TEAM_BATTING_3B  TEAM_BATTING_HR  \\\n",
       "0              39              194               39               13   \n",
       "1              70              219               22              190   \n",
       "2              86              232               35              137   \n",
       "3              70              209               38               96   \n",
       "4              82              186               27              102   \n",
       "...           ...              ...              ...              ...   \n",
       "2271           83              294               25              144   \n",
       "2272           67              276               27              151   \n",
       "2273           81              311               32              117   \n",
       "2274           71              322               22              164   \n",
       "2275           31              157               62               15   \n",
       "\n",
       "      TEAM_BATTING_BB  TEAM_BATTING_SO  TEAM_BASERUN_SB  TEAM_PITCHING_H  \\\n",
       "0                 143            842.0              NaN             9364   \n",
       "1                 685           1075.0             37.0             1347   \n",
       "2                 602            917.0             46.0             1377   \n",
       "3                 451            922.0             43.0             1396   \n",
       "4                 472            920.0             49.0             1297   \n",
       "...               ...              ...              ...              ...   \n",
       "2271              522            990.0            100.0             1404   \n",
       "2272              496            925.0            109.0             1361   \n",
       "2273              491           1090.0             45.0             1367   \n",
       "2274              594           1156.0            123.0             1437   \n",
       "2275              262            969.0              NaN             2870   \n",
       "\n",
       "      TEAM_PITCHING_HR  TEAM_PITCHING_BB  TEAM_PITCHING_SO  TEAM_FIELDING_E  \\\n",
       "0                   84               927            5456.0             1011   \n",
       "1                  191               689            1082.0              193   \n",
       "2                  137               602             917.0              175   \n",
       "3                   97               454             928.0              164   \n",
       "4                  102               472             920.0              138   \n",
       "...                ...               ...               ...              ...   \n",
       "2271               144               522             990.0              102   \n",
       "2272               151               496             925.0               99   \n",
       "2273               117               491            1090.0               92   \n",
       "2274               164               594            1156.0              131   \n",
       "2275                39               674            2492.0             1026   \n",
       "\n",
       "      TEAM_FIELDING_DP  TEAM_BATTING_1B  \n",
       "0                  NaN             1199  \n",
       "1                155.0              908  \n",
       "2                153.0              973  \n",
       "3                156.0             1044  \n",
       "4                168.0              982  \n",
       "...                ...              ...  \n",
       "2271             152.0              941  \n",
       "2272             171.0              907  \n",
       "2273             156.0              907  \n",
       "2274             123.0              929  \n",
       "2275               NaN              882  \n",
       "\n",
       "[2276 rows x 14 columns]"
      ]
     },
     "execution_count": 82,
     "metadata": {},
     "output_type": "execute_result"
    }
   ],
   "source": [
    "train_df = pd.read_csv('./data/moneyball-training-data.csv')\n",
    "train_df.drop(labels=['TEAM_BATTING_HBP','TEAM_BASERUN_CS'], axis=1, inplace=True)\n",
    "\n",
    "train_df.drop(['INDEX'], axis=1, inplace=True)\n",
    "train_df.reindex()\n",
    "\n",
    "train_df['TEAM_BATTING_1B'] = train_df['TEAM_BATTING_H'] - train_df['TEAM_BATTING_2B'] - train_df['TEAM_BATTING_3B'] - train_df['TEAM_BATTING_HR']\n",
    "train_df.drop(['TEAM_BATTING_H'], axis=1, inplace=True)\n",
    "\n",
    "#train_df.dropna(inplace=True)\n",
    "train_df"
   ]
  },
  {
   "cell_type": "code",
   "execution_count": 83,
   "id": "267072c0-1541-4f2b-9531-3f9a54d71525",
   "metadata": {
    "tags": []
   },
   "outputs": [
    {
     "data": {
      "text/plain": [
       "TARGET_WINS         0.000000\n",
       "TEAM_BATTING_2B     0.000000\n",
       "TEAM_BATTING_3B     0.000000\n",
       "TEAM_BATTING_HR     0.000000\n",
       "TEAM_BATTING_BB     0.000000\n",
       "TEAM_BATTING_SO     0.044815\n",
       "TEAM_BASERUN_SB     0.057557\n",
       "TEAM_PITCHING_H     0.000000\n",
       "TEAM_PITCHING_HR    0.000000\n",
       "TEAM_PITCHING_BB    0.000000\n",
       "TEAM_PITCHING_SO    0.044815\n",
       "TEAM_FIELDING_E     0.000000\n",
       "TEAM_FIELDING_DP    0.125659\n",
       "TEAM_BATTING_1B     0.000000\n",
       "dtype: float64"
      ]
     },
     "execution_count": 83,
     "metadata": {},
     "output_type": "execute_result"
    }
   ],
   "source": [
    "train_df.isnull().sum() / len(train_df)"
   ]
  },
  {
   "cell_type": "markdown",
   "id": "7110cfb2-4c74-4394-974d-1f8d55727a30",
   "metadata": {},
   "source": [
    "# Train Split"
   ]
  },
  {
   "cell_type": "code",
   "execution_count": 84,
   "id": "ac0e333a-cde1-4608-af7a-1fbc6460fa5f",
   "metadata": {
    "tags": []
   },
   "outputs": [],
   "source": [
    "train_df = train_df.drop(['TEAM_FIELDING_DP'], axis=1)\n",
    "#train_df.dropna(inplace=True)\n",
    "X = train_df.drop(['TARGET_WINS'], axis=1).values\n",
    "y = train_df['TARGET_WINS']"
   ]
  },
  {
   "cell_type": "code",
   "execution_count": 85,
   "id": "fa889445-a602-4751-8fac-21f5c7ef4c2a",
   "metadata": {
    "tags": []
   },
   "outputs": [
    {
     "name": "stdout",
     "output_type": "stream",
     "text": [
      "(1593, 12) (1593,)\n"
     ]
    }
   ],
   "source": [
    "X_train, X_test, y_train, y_test = train_test_split(X, y, test_size=0.3, random_state=21)\n",
    "print(X_train.shape, y_train.shape)"
   ]
  },
  {
   "cell_type": "markdown",
   "id": "4dec2d1d-585c-4d36-bcc4-3001c65f91b5",
   "metadata": {},
   "source": [
    "# Transform"
   ]
  },
  {
   "cell_type": "markdown",
   "id": "7d8bacc3-f873-4491-8947-f68f4340745c",
   "metadata": {},
   "source": [
    "## impute missing values"
   ]
  },
  {
   "cell_type": "code",
   "execution_count": 86,
   "id": "3c6d78de-e85a-4122-9551-3d472d7cdea3",
   "metadata": {
    "tags": []
   },
   "outputs": [],
   "source": [
    "imp_num = SimpleImputer(missing_values=np.nan, strategy='mean')\n",
    "X_train_trf = imp_num.fit_transform(X_train)"
   ]
  },
  {
   "cell_type": "code",
   "execution_count": 87,
   "id": "381cb150-4684-4580-a75a-6c9b2580c390",
   "metadata": {
    "tags": []
   },
   "outputs": [
    {
     "data": {
      "text/plain": [
       "0     0.0\n",
       "1     0.0\n",
       "2     0.0\n",
       "3     0.0\n",
       "4     0.0\n",
       "5     0.0\n",
       "6     0.0\n",
       "7     0.0\n",
       "8     0.0\n",
       "9     0.0\n",
       "10    0.0\n",
       "11    0.0\n",
       "dtype: float64"
      ]
     },
     "execution_count": 87,
     "metadata": {},
     "output_type": "execute_result"
    }
   ],
   "source": [
    "trf_df = pd.DataFrame(X_train_trf)\n",
    "trf_df.isnull().sum() / len(trf_df)"
   ]
  },
  {
   "cell_type": "code",
   "execution_count": 88,
   "id": "7da8a54c-ca1a-4540-9f00-f19de3f6bccd",
   "metadata": {},
   "outputs": [],
   "source": [
    "X_test_trf = imp_num.transform(X_test)"
   ]
  },
  {
   "cell_type": "code",
   "execution_count": 89,
   "id": "2d3ff790-afed-4903-9c74-5c7934251c06",
   "metadata": {
    "tags": []
   },
   "outputs": [
    {
     "data": {
      "text/plain": [
       "0     0.0\n",
       "1     0.0\n",
       "2     0.0\n",
       "3     0.0\n",
       "4     0.0\n",
       "5     0.0\n",
       "6     0.0\n",
       "7     0.0\n",
       "8     0.0\n",
       "9     0.0\n",
       "10    0.0\n",
       "11    0.0\n",
       "dtype: float64"
      ]
     },
     "execution_count": 89,
     "metadata": {},
     "output_type": "execute_result"
    }
   ],
   "source": [
    "trf_df = pd.DataFrame(X_test_trf)\n",
    "trf_df.isnull().sum() / len(trf_df)"
   ]
  },
  {
   "cell_type": "markdown",
   "id": "1b9ba922-6afe-49c5-bcf6-e81db6caf831",
   "metadata": {},
   "source": [
    "## transform data"
   ]
  },
  {
   "cell_type": "code",
   "execution_count": 90,
   "id": "0a1fda91-852a-4403-b335-4d038c40d837",
   "metadata": {},
   "outputs": [],
   "source": [
    "scaler_sd = StandardScaler()\n",
    "X_train_sd = scaler_sd.fit_transform(X_train_trf)"
   ]
  },
  {
   "cell_type": "code",
   "execution_count": 91,
   "id": "995a59da-c445-4f6c-af4a-b31a52b6a4fa",
   "metadata": {},
   "outputs": [],
   "source": [
    "scaler_rs = RobustScaler()\n",
    "X_train_rs = scaler_rs.fit_transform(X_train_trf)"
   ]
  },
  {
   "cell_type": "code",
   "execution_count": 92,
   "id": "2e42309a-1fab-463d-b700-d901f3d43e71",
   "metadata": {},
   "outputs": [],
   "source": [
    "scaler_norm = Normalizer()\n",
    "X_train_norm = scaler_norm.fit_transform(X_train_trf)"
   ]
  },
  {
   "cell_type": "code",
   "execution_count": 93,
   "id": "8e1c2af3-435d-42f6-8216-9fbfcdb2ca9c",
   "metadata": {},
   "outputs": [],
   "source": [
    "scaler_pwr = PowerTransformer()\n",
    "X_train_pwr = scaler_pwr.fit_transform(X_train_trf)"
   ]
  },
  {
   "cell_type": "code",
   "execution_count": 94,
   "id": "75e172c4-dbf3-44e0-92bb-760a2d923a22",
   "metadata": {
    "tags": []
   },
   "outputs": [],
   "source": [
    "x_dict = {\"orig\":X_train_trf,\"sd\":X_train_sd,\"rs\":X_train_rs,\"norm\":X_train_norm, \"pwr\":X_train_pwr}"
   ]
  },
  {
   "cell_type": "markdown",
   "id": "9e228802-1f3c-416a-9dae-a72e0f3d80ce",
   "metadata": {},
   "source": [
    "# Model - Lasso - Grid Search"
   ]
  },
  {
   "cell_type": "code",
   "execution_count": 102,
   "id": "810570c9-2476-46cd-90f2-27d0217cf0c5",
   "metadata": {
    "tags": []
   },
   "outputs": [
    {
     "name": "stdout",
     "output_type": "stream",
     "text": [
      "orig ) Best Accuracy Score:  0.2746    Parameters: {} {'alpha': 0.1}\n",
      "sd ) Best Accuracy Score:  0.275    Parameters: {} {'alpha': 0.010000000000000002}\n",
      "rs ) Best Accuracy Score:  0.275    Parameters: {} {'alpha': 0.007}\n",
      "norm ) Best Accuracy Score:  0.2052    Parameters: {} {'alpha': 0.003}\n",
      "pwr ) Best Accuracy Score:  0.2563    Parameters: {} {'alpha': 0.036000000000000004}\n"
     ]
    },
    {
     "data": {
      "image/png": "[encoded data removed]",
      "text/plain": [
       "<Figure size 640x480 with 1 Axes>"
      ]
     },
     "metadata": {},
     "output_type": "display_data"
    }
   ],
   "source": [
    "results_lasso = []\n",
    "\n",
    "lasso = Lasso()\n",
    "n_splits = 10\n",
    "n_iter=100\n",
    "random_state=42\n",
    "\n",
    "\n",
    "kf = KFold(n_splits=n_splits, shuffle=True, random_state=random_state)\n",
    "\n",
    "#params = {\"alpha\" : np.linspace(0.01, 0.1, 100),\n",
    "#         \"tol\": np.linspace(0.0001, 0.001, 10)}\n",
    "\n",
    "params = {\"alpha\" : np.linspace(0.001, 0.1, 100)}\n",
    "\n",
    "lasso_cv = RandomizedSearchCV(lasso, params, cv=kf, n_iter=n_iter, random_state=random_state)\n",
    "\n",
    "# Loop through \n",
    "for name, x in x_dict.items():\n",
    "    lasso_cv.fit(x,y_train)\n",
    "    cv_results = lasso_cv.cv_results_['mean_test_score']\n",
    "    results_lasso.append(cv_results)\n",
    "    \n",
    "    print(name, ') Best Accuracy Score: ' ,lasso_cv.best_score_.round(4), \"   Parameters: {}\" , lasso_cv.best_params_)\n",
    "    \n",
    "plt.boxplot(results_lasso, labels=x_dict.keys())\n",
    "plt.show()"
   ]
  },
  {
   "cell_type": "code",
   "execution_count": 103,
   "id": "e457992a-d46a-4ed1-bc54-9ea684c54ec8",
   "metadata": {
    "tags": []
   },
   "outputs": [
    {
     "name": "stdout",
     "output_type": "stream",
     "text": [
      "Tuned Regression Parameters: {'alpha': 0.1}\n",
      "Tuned Regression Best Accuracy Score: 0.27463599894709667\n"
     ]
    },
    {
     "data": {
      "image/png": "[encoded data removed]",
      "text/plain": [
       "<Figure size 640x480 with 1 Axes>"
      ]
     },
     "metadata": {},
     "output_type": "display_data"
    }
   ],
   "source": [
    "lasso = Lasso()\n",
    "lasso_cv = RandomizedSearchCV(lasso, params, cv=kf, n_iter=100)\n",
    "lasso_cv.fit(x_dict['orig'], y_train)\n",
    "\n",
    "print(\"Tuned Regression Parameters: {}\".format(lasso_cv.best_params_))\n",
    "print(\"Tuned Regression Best Accuracy Score: {}\".format(lasso_cv.best_score_))\n",
    "\n",
    "alpha_fit = lasso_cv.best_params_['alpha']\n",
    "alpha_fit\n",
    "\n",
    "names = train_df.drop(\"TARGET_WINS\", axis=1).columns\n",
    "lasso = Lasso(alpha=alpha_fit)\n",
    "lasso_coef = lasso.fit(x_dict['orig'], y_train).coef_\n",
    "plt.bar(names, lasso_coef)\n",
    "plt.xticks(rotation=90)\n",
    "plt.show()"
   ]
  },
  {
   "cell_type": "code",
   "execution_count": null,
   "id": "036f2eab-50c8-408a-8e9a-166c5d608792",
   "metadata": {},
   "outputs": [],
   "source": []
  },
  {
   "cell_type": "markdown",
   "id": "ee7e8008-357f-41e5-b0c2-04686090930c",
   "metadata": {},
   "source": [
    "## Predict"
   ]
  },
  {
   "cell_type": "code",
   "execution_count": 104,
   "id": "c0147ad7-49d7-4c88-b583-d2cee28fdb0b",
   "metadata": {
    "tags": []
   },
   "outputs": [],
   "source": [
    "X_test_rs = scaler_rs.transform(X_test_trf)\n",
    "y_pred_lasso = lasso_cv.predict(X_test_rs)"
   ]
  },
  {
   "cell_type": "code",
   "execution_count": null,
   "id": "5c2a6d28-0205-4faf-a78f-42bd165582b4",
   "metadata": {
    "tags": []
   },
   "outputs": [],
   "source": []
  },
  {
   "cell_type": "markdown",
   "id": "1cc173e4-6b65-4bea-844e-3ae0a651223b",
   "metadata": {},
   "source": [
    "## Performance"
   ]
  },
  {
   "cell_type": "code",
   "execution_count": 105,
   "id": "1342dc37-3f54-4611-9542-00925f83a984",
   "metadata": {},
   "outputs": [
    {
     "name": "stdout",
     "output_type": "stream",
     "text": [
      "The model performance for testing set\n",
      "--------------------------------------\n",
      "MAE is 68.35155460687014\n",
      "MSE is 4915.903726279788\n",
      "R2 score is -18.97980506738742\n"
     ]
    }
   ],
   "source": [
    "# model evaluation for testing set\n",
    "mae = mean_absolute_error(y_test, y_pred_lasso)\n",
    "mse = mean_squared_error(y_test, y_pred_lasso)\n",
    "r2 = r2_score(y_test, y_pred_lasso)\n",
    "\n",
    "print(\"The model performance for testing set\")\n",
    "print(\"--------------------------------------\")\n",
    "print('MAE is {}'.format(mae))\n",
    "print('MSE is {}'.format(mse))\n",
    "print('R2 score is {}'.format(r2))"
   ]
  },
  {
   "cell_type": "code",
   "execution_count": null,
   "id": "1a5a1f4b-0051-4600-b6f1-cbb01ba9415e",
   "metadata": {},
   "outputs": [],
   "source": []
  },
  {
   "cell_type": "code",
   "execution_count": null,
   "id": "439b0c98-13fa-4c16-b09f-fcdd52b36ad5",
   "metadata": {},
   "outputs": [],
   "source": []
  }
 ],
 "metadata": {
  "kernelspec": {
   "display_name": "Python 3 (ipykernel)",
   "language": "python",
   "name": "python3"
  },
  "language_info": {
   "codemirror_mode": {
    "name": "ipython",
    "version": 3
   },
   "file_extension": ".py",
   "mimetype": "text/x-python",
   "name": "python",
   "nbconvert_exporter": "python",
   "pygments_lexer": "ipython3",
   "version": "3.10.11"
  }
 },
 "nbformat": 4,
 "nbformat_minor": 5
}
